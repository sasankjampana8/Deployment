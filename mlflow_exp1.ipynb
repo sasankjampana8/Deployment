{
 "cells": [
  {
   "cell_type": "code",
   "execution_count": 1,
   "metadata": {},
   "outputs": [],
   "source": [
    "# %pip install mlflow"
   ]
  },
  {
   "cell_type": "code",
   "execution_count": 2,
   "metadata": {},
   "outputs": [],
   "source": [
    "import numpy as np \n",
    "import pandas as pd \n",
    "data = pd.read_csv(\"/home/jampanasasank/Desktop/Customer Churn Prediction/Telecom Churn Prediction/archive (7)/WA_Fn-UseC_-Telco-Customer-Churn.csv\")\n"
   ]
  },
  {
   "cell_type": "code",
   "execution_count": 3,
   "metadata": {},
   "outputs": [],
   "source": [
    "from sklearn.preprocessing import LabelEncoder, MinMaxScaler\n",
    "from sklearn.model_selection import train_test_split\n",
    "import pickle as pkl\n",
    "\n",
    "class DataPrep:\n",
    "    def __init__(self, data, artifacts_path) -> None:\n",
    "        self.data = data\n",
    "        self.artifacts_path = artifacts_path\n",
    "        print(self.artifacts_path)\n",
    "        X = self.data.drop(['Churn'], axis=1)\n",
    "        Y = self.data[['Churn']]\n",
    "        self.X_train, self.X_test, self.Y_train, self.Y_test = train_test_split(X, Y, random_state=42, test_size=0.2)\n",
    "    \n",
    "    def save_artifacts(self, feature, encoder):\n",
    "        path = f'{self.artifacts_path}/{feature}_estimator.pkl'\n",
    "        with open(file=path, mode='wb') as f: \n",
    "            pkl.dump(encoder, f)\n",
    "            \n",
    "    def label_encode(self):\n",
    "        cat_cols = [\n",
    "            'gender', 'Partner', 'Dependents', 'PhoneService', 'MultipleLines', 'InternetService',\n",
    "            'OnlineSecurity', 'OnlineBackup', 'DeviceProtection', 'TechSupport',\n",
    "            'StreamingTV', 'StreamingMovies', 'Contract', 'PaperlessBilling',\n",
    "            'PaymentMethod'\n",
    "        ]\n",
    "        \n",
    "        for col in cat_cols:\n",
    "            label_encoder = LabelEncoder()\n",
    "            self.X_train[col] = label_encoder.fit_transform(self.X_train[col].copy())\n",
    "            self.X_test[col] = label_encoder.transform(self.X_test[col].copy())\n",
    "            feature = f'{col}_label_encoder'\n",
    "            self.save_artifacts(feature, label_encoder)\n",
    "            \n",
    "    def scaling(self):\n",
    "        self.X_train['TotalCharges'] = pd.to_numeric(self.X_train['TotalCharges'], errors='coerce')\n",
    "        self.X_test['TotalCharges'] = pd.to_numeric(self.X_test['TotalCharges'], errors='coerce')\n",
    "        \n",
    "        num_cols = ['tenure','MonthlyCharges', 'TotalCharges' ]\n",
    "\n",
    "        \n",
    "        for col in num_cols:\n",
    "            scaler = MinMaxScaler()\n",
    "            self.X_train[col] = scaler.fit_transform(self.X_train[[col]])\n",
    "            self.X_test[col] = scaler.transform(self.X_test[[col]])\n",
    "            feature = f'{col}_scaler'\n",
    "            self.save_artifacts(feature, scaler)\n",
    "        \n",
    "    def drop_columns(self,):\n",
    "        self.X_train.drop(['customerID'], axis=1, inplace=True)\n",
    "        self.X_test.drop(['customerID'], axis=1, inplace=True)\n",
    "        \n",
    "    \n",
    "    def target_replace(self, ):\n",
    "        self.Y_train['Churn'].replace({'Yes':1, 'No': 0}, inplace=True)\n",
    "        self.Y_test['Churn'].replace({'Yes':1, 'No': 0}, inplace=True)\n",
    "        \n",
    "            \n",
    "    def process(self):\n",
    "        self.label_encode()\n",
    "        self.scaling()\n",
    "        self.drop_columns()\n",
    "        self.target_replace()\n",
    "        return self.X_train, self.X_test, self.Y_train, self.Y_test\n"
   ]
  },
  {
   "cell_type": "code",
   "execution_count": null,
   "metadata": {},
   "outputs": [],
   "source": []
  },
  {
   "cell_type": "code",
   "execution_count": 4,
   "metadata": {},
   "outputs": [],
   "source": [
    "artifacts_path = '/home/jampanasasank/Documents/Deployment/Deployment/telecom_churn_prediction/model'\n",
    "data = pd.read_csv(\"/home/jampanasasank/Documents/Deployment/Deployment/telecom_churn_prediction/archive (7)/WA_Fn-UseC_-Telco-Customer-Churn.csv\")"
   ]
  },
  {
   "cell_type": "code",
   "execution_count": 5,
   "metadata": {},
   "outputs": [
    {
     "name": "stdout",
     "output_type": "stream",
     "text": [
      "/home/jampanasasank/Documents/Deployment/Deployment/telecom_churn_prediction/model\n"
     ]
    },
    {
     "name": "stderr",
     "output_type": "stream",
     "text": [
      "/tmp/ipykernel_300384/1095122835.py:54: FutureWarning: A value is trying to be set on a copy of a DataFrame or Series through chained assignment using an inplace method.\n",
      "The behavior will change in pandas 3.0. This inplace method will never work because the intermediate object on which we are setting values always behaves as a copy.\n",
      "\n",
      "For example, when doing 'df[col].method(value, inplace=True)', try using 'df.method({col: value}, inplace=True)' or df[col] = df[col].method(value) instead, to perform the operation inplace on the original object.\n",
      "\n",
      "\n",
      "  self.Y_train['Churn'].replace({'Yes':1, 'No': 0}, inplace=True)\n",
      "/tmp/ipykernel_300384/1095122835.py:54: FutureWarning: Downcasting behavior in `replace` is deprecated and will be removed in a future version. To retain the old behavior, explicitly call `result.infer_objects(copy=False)`. To opt-in to the future behavior, set `pd.set_option('future.no_silent_downcasting', True)`\n",
      "  self.Y_train['Churn'].replace({'Yes':1, 'No': 0}, inplace=True)\n",
      "/tmp/ipykernel_300384/1095122835.py:55: FutureWarning: A value is trying to be set on a copy of a DataFrame or Series through chained assignment using an inplace method.\n",
      "The behavior will change in pandas 3.0. This inplace method will never work because the intermediate object on which we are setting values always behaves as a copy.\n",
      "\n",
      "For example, when doing 'df[col].method(value, inplace=True)', try using 'df.method({col: value}, inplace=True)' or df[col] = df[col].method(value) instead, to perform the operation inplace on the original object.\n",
      "\n",
      "\n",
      "  self.Y_test['Churn'].replace({'Yes':1, 'No': 0}, inplace=True)\n",
      "/tmp/ipykernel_300384/1095122835.py:55: FutureWarning: Downcasting behavior in `replace` is deprecated and will be removed in a future version. To retain the old behavior, explicitly call `result.infer_objects(copy=False)`. To opt-in to the future behavior, set `pd.set_option('future.no_silent_downcasting', True)`\n",
      "  self.Y_test['Churn'].replace({'Yes':1, 'No': 0}, inplace=True)\n"
     ]
    }
   ],
   "source": [
    "obj = DataPrep(data=data, artifacts_path=artifacts_path)\n",
    "X_train, X_test , Y_train, Y_test = obj.process()"
   ]
  },
  {
   "cell_type": "code",
   "execution_count": 6,
   "metadata": {},
   "outputs": [],
   "source": [
    "import xgboost as xgb\n",
    "import mlflow\n",
    "import mlflow.sklearn\n",
    "from sklearn.metrics import accuracy_score, classification_report, confusion_matrix, roc_auc_score\n",
    "import pickle as pkl\n",
    "\n",
    "class ModelBuilding:\n",
    "    def __init__(self, X_train, X_test, Y_train, Y_test, path):\n",
    "        self.X_train = X_train\n",
    "        self.X_test = X_test\n",
    "        self.Y_train = Y_train\n",
    "        self.Y_test = Y_test\n",
    "        self.path = path\n",
    "        self.model = None  # Initialize model attribute\n",
    "\n",
    "    def build_model(self):\n",
    "        self.model = xgb.XGBClassifier()  # Create the model\n",
    "        self.model.fit(self.X_train, self.Y_train)  # Train the model\n",
    "        self.save_artifacts()  # Save the model\n",
    "\n",
    "    def evaluate_model(self):\n",
    "        if self.model is None:\n",
    "            print(\"Model is not trained yet!\")\n",
    "            return\n",
    "\n",
    "        # Make predictions\n",
    "        predictions = self.model.predict(self.X_test)\n",
    "\n",
    "        # Log metrics with MLflow\n",
    "        mlflow.log_metric(\"accuracy\", accuracy_score(self.Y_test, predictions))\n",
    "        mlflow.log_metric(\"roc_auc\", roc_auc_score(self.Y_test, predictions))\n",
    "\n",
    "        # Log confusion matrix and classification report\n",
    "        print(\"Accuracy score: \", accuracy_score(self.Y_test, predictions), '\\n')\n",
    "        print(\"Classification report: \\n\", classification_report(self.Y_test, predictions), '\\n')\n",
    "        print(\"Confusion Matrix: \\n\", confusion_matrix(self.Y_test, predictions), '\\n')\n",
    "\n",
    "    def save_artifacts(self):\n",
    "        if self.model is None:\n",
    "            print(\"No model to save!\")\n",
    "            return\n",
    "        \n",
    "        # Save the model to MLflow\n",
    "        with mlflow.start_run():  # Track the experiment\n",
    "            mlflow.log_param(\"model_type\", \"XGBClassifier\")  # Log model type as a parameter\n",
    "            mlflow.sklearn.log_model(self.model, \"model\")  # Log the trained model to MLflow\n",
    "            print(f\"Model saved to MLflow\")\n",
    "\n",
    "    def build(self):\n",
    "        self.build_model()  # Build the model\n",
    "        self.evaluate_model()  # Evaluate the model\n",
    "\n"
   ]
  },
  {
   "cell_type": "code",
   "execution_count": 7,
   "metadata": {},
   "outputs": [
    {
     "name": "stderr",
     "output_type": "stream",
     "text": [
      "2024/11/11 20:01:48 WARNING mlflow.models.model: Model logged without a signature and input example. Please set `input_example` parameter when logging the model to auto infer the model signature.\n"
     ]
    },
    {
     "name": "stdout",
     "output_type": "stream",
     "text": [
      "Model saved to MLflow\n",
      "Accuracy score:  0.7920511000709723 \n",
      "\n",
      "Classification report: \n",
      "               precision    recall  f1-score   support\n",
      "\n",
      "           0       0.83      0.89      0.86      1036\n",
      "           1       0.63      0.51      0.56       373\n",
      "\n",
      "    accuracy                           0.79      1409\n",
      "   macro avg       0.73      0.70      0.71      1409\n",
      "weighted avg       0.78      0.79      0.78      1409\n",
      " \n",
      "\n",
      "Confusion Matrix: \n",
      " [[927 109]\n",
      " [184 189]] \n",
      "\n"
     ]
    }
   ],
   "source": [
    "path = '/home/jampanasasank/Documents/Deployment/Deployment/Telecom Churn Prediction/model'\n",
    "obj1 = ModelBuilding(X_train, X_test , Y_train, Y_test, path=path)\n",
    "obj1.build()"
   ]
  },
  {
   "cell_type": "code",
   "execution_count": null,
   "metadata": {},
   "outputs": [],
   "source": []
  }
 ],
 "metadata": {
  "kernelspec": {
   "display_name": "Python 3",
   "language": "python",
   "name": "python3"
  },
  "language_info": {
   "codemirror_mode": {
    "name": "ipython",
    "version": 3
   },
   "file_extension": ".py",
   "mimetype": "text/x-python",
   "name": "python",
   "nbconvert_exporter": "python",
   "pygments_lexer": "ipython3",
   "version": "3.10.12"
  }
 },
 "nbformat": 4,
 "nbformat_minor": 2
}
